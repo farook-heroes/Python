{
 "cells": [
  {
   "cell_type": "code",
   "execution_count": 1,
   "metadata": {},
   "outputs": [
    {
     "name": "stdout",
     "output_type": "stream",
     "text": [
      "[[6 2]\n",
      " [1 6]]\n"
     ]
    }
   ],
   "source": [
    "import numpy as np\n",
    "np_arr = np.array([[6,2],[1,6]])\n",
    "print(np_arr)"
   ]
  },
  {
   "cell_type": "code",
   "execution_count": 2,
   "metadata": {},
   "outputs": [
    {
     "name": "stdout",
     "output_type": "stream",
     "text": [
      "[[5 6]\n",
      " [6 2]\n",
      " [1 6]]\n"
     ]
    }
   ],
   "source": [
    "np_arr_insert = np.insert(np_arr,0,[5,6],0)\n",
    "print(np_arr_insert)"
   ]
  },
  {
   "cell_type": "code",
   "execution_count": 3,
   "metadata": {},
   "outputs": [],
   "source": [
    "np_arr_append = np.append(np_arr,[[4,5],[7,2]])"
   ]
  },
  {
   "cell_type": "code",
   "execution_count": 4,
   "metadata": {},
   "outputs": [
    {
     "name": "stdout",
     "output_type": "stream",
     "text": [
      "[6 2 1 6 4 5 7 2]\n"
     ]
    }
   ],
   "source": [
    "print(np_arr_append)"
   ]
  },
  {
   "cell_type": "code",
   "execution_count": 5,
   "metadata": {},
   "outputs": [],
   "source": [
    "np_arr_delete = np.delete(np_arr,1,0)"
   ]
  },
  {
   "cell_type": "code",
   "execution_count": 6,
   "metadata": {},
   "outputs": [
    {
     "name": "stdout",
     "output_type": "stream",
     "text": [
      "[[6 2]]\n"
     ]
    }
   ],
   "source": [
    "print(np_arr_delete)"
   ]
  },
  {
   "cell_type": "code",
   "execution_count": 7,
   "metadata": {},
   "outputs": [
    {
     "name": "stdout",
     "output_type": "stream",
     "text": [
      "[6 6]\n",
      "[[ True False]\n",
      " [False  True]]\n"
     ]
    }
   ],
   "source": [
    "import numpy as np\n",
    "np_arr = np.array([[6,2],[1,6]])\n",
    "np_list = np_arr[np_arr >4]\n",
    "print(np_list)\n",
    "print(np_arr >4)"
   ]
  },
  {
   "cell_type": "code",
   "execution_count": 11,
   "metadata": {},
   "outputs": [],
   "source": [
    "np_broadcast = np_arr *2\n",
    "np_3 = np.array([[2,6]])"
   ]
  },
  {
   "cell_type": "code",
   "execution_count": 9,
   "metadata": {},
   "outputs": [
    {
     "name": "stdout",
     "output_type": "stream",
     "text": [
      "[[12  4]\n",
      " [ 2 12]]\n"
     ]
    }
   ],
   "source": [
    "print(np_broadcast)"
   ]
  },
  {
   "cell_type": "code",
   "execution_count": 13,
   "metadata": {},
   "outputs": [
    {
     "name": "stdout",
     "output_type": "stream",
     "text": [
      "[[12 12]\n",
      " [ 2 36]]\n"
     ]
    }
   ],
   "source": [
    "np_1 = np_arr * np_3\n",
    "print(np_1)"
   ]
  },
  {
   "cell_type": "code",
   "execution_count": null,
   "metadata": {},
   "outputs": [],
   "source": []
  }
 ],
 "metadata": {
  "kernelspec": {
   "display_name": "Python 3",
   "language": "python",
   "name": "python3"
  },
  "language_info": {
   "codemirror_mode": {
    "name": "ipython",
    "version": 3
   },
   "file_extension": ".py",
   "mimetype": "text/x-python",
   "name": "python",
   "nbconvert_exporter": "python",
   "pygments_lexer": "ipython3",
   "version": "3.8.5"
  }
 },
 "nbformat": 4,
 "nbformat_minor": 4
}
