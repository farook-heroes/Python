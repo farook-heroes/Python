{
 "cells": [
  {
   "cell_type": "code",
   "execution_count": 2,
   "metadata": {},
   "outputs": [
    {
     "name": "stdout",
     "output_type": "stream",
     "text": [
      "9\n"
     ]
    }
   ],
   "source": [
    "def add(*args):\n",
    "    k=0\n",
    "    for i in args:\n",
    "        k+=i\n",
    "    print(k)\n",
    "l=add(1,3,5)        "
   ]
  },
  {
   "cell_type": "code",
   "execution_count": 5,
   "metadata": {},
   "outputs": [
    {
     "name": "stdout",
     "output_type": "stream",
     "text": [
      "m\n",
      "k\n",
      "9\n",
      "0\n"
     ]
    }
   ],
   "source": [
    "def string_1(*args):\n",
    "    for i in args:\n",
    "        print(i)\n",
    "string_1(\"m\",\"k\",9,0)   "
   ]
  },
  {
   "cell_type": "code",
   "execution_count": 8,
   "metadata": {},
   "outputs": [
    {
     "name": "stdout",
     "output_type": "stream",
     "text": [
      "s double\n",
      "k luck\n"
     ]
    }
   ],
   "source": [
    "def hat(**k):\n",
    "    for keys,values in zip(k.keys(),k.values()):\n",
    "        print(keys,values)\n",
    "hat(s=\"double\",k=\"luck\")  \n",
    " "
   ]
  },
  {
   "cell_type": "code",
   "execution_count": null,
   "metadata": {},
   "outputs": [],
   "source": []
  }
 ],
 "metadata": {
  "kernelspec": {
   "display_name": "Python 3",
   "language": "python",
   "name": "python3"
  },
  "language_info": {
   "codemirror_mode": {
    "name": "ipython",
    "version": 3
   },
   "file_extension": ".py",
   "mimetype": "text/x-python",
   "name": "python",
   "nbconvert_exporter": "python",
   "pygments_lexer": "ipython3",
   "version": "3.8.5"
  }
 },
 "nbformat": 4,
 "nbformat_minor": 4
}
